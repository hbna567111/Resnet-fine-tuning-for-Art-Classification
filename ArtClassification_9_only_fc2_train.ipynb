{
 "cells": [
  {
   "cell_type": "code",
   "execution_count": 1,
   "id": "708d6685",
   "metadata": {},
   "outputs": [
    {
     "data": {
      "text/html": [
       "<div>\n",
       "<style scoped>\n",
       "    .dataframe tbody tr th:only-of-type {\n",
       "        vertical-align: middle;\n",
       "    }\n",
       "\n",
       "    .dataframe tbody tr th {\n",
       "        vertical-align: top;\n",
       "    }\n",
       "\n",
       "    .dataframe thead th {\n",
       "        text-align: right;\n",
       "    }\n",
       "</style>\n",
       "<table border=\"1\" class=\"dataframe\">\n",
       "  <thead>\n",
       "    <tr style=\"text-align: right;\">\n",
       "      <th></th>\n",
       "      <th>filename</th>\n",
       "      <th>artist</th>\n",
       "      <th>genre</th>\n",
       "      <th>description</th>\n",
       "      <th>phash</th>\n",
       "      <th>width</th>\n",
       "      <th>height</th>\n",
       "      <th>genre_count</th>\n",
       "      <th>subset</th>\n",
       "    </tr>\n",
       "  </thead>\n",
       "  <tbody>\n",
       "    <tr>\n",
       "      <th>0</th>\n",
       "      <td>Abstract_Expressionism/aaron-siskind_acolman-1...</td>\n",
       "      <td>aaron siskind</td>\n",
       "      <td>['Abstract Expressionism']</td>\n",
       "      <td>acolman-1-1955</td>\n",
       "      <td>bebbeb018a7d80a8</td>\n",
       "      <td>1922</td>\n",
       "      <td>1382</td>\n",
       "      <td>1</td>\n",
       "      <td>train</td>\n",
       "    </tr>\n",
       "    <tr>\n",
       "      <th>1</th>\n",
       "      <td>Abstract_Expressionism/aaron-siskind_chicago-6...</td>\n",
       "      <td>aaron siskind</td>\n",
       "      <td>['Abstract Expressionism']</td>\n",
       "      <td>chicago-6-1961</td>\n",
       "      <td>d7d0781be51fc00e</td>\n",
       "      <td>1382</td>\n",
       "      <td>1746</td>\n",
       "      <td>1</td>\n",
       "      <td>train</td>\n",
       "    </tr>\n",
       "    <tr>\n",
       "      <th>2</th>\n",
       "      <td>Abstract_Expressionism/aaron-siskind_glouceste...</td>\n",
       "      <td>aaron siskind</td>\n",
       "      <td>['Abstract Expressionism']</td>\n",
       "      <td>gloucester-16a-1944</td>\n",
       "      <td>9f846e5a6c639325</td>\n",
       "      <td>1382</td>\n",
       "      <td>1857</td>\n",
       "      <td>1</td>\n",
       "      <td>train</td>\n",
       "    </tr>\n",
       "    <tr>\n",
       "      <th>3</th>\n",
       "      <td>Abstract_Expressionism/aaron-siskind_jerome-ar...</td>\n",
       "      <td>aaron siskind</td>\n",
       "      <td>['Abstract Expressionism']</td>\n",
       "      <td>jerome-arizona-1949</td>\n",
       "      <td>a5d691f85ac5e4d0</td>\n",
       "      <td>1382</td>\n",
       "      <td>1849</td>\n",
       "      <td>1</td>\n",
       "      <td>train</td>\n",
       "    </tr>\n",
       "    <tr>\n",
       "      <th>4</th>\n",
       "      <td>Abstract_Expressionism/aaron-siskind_kentucky-...</td>\n",
       "      <td>aaron siskind</td>\n",
       "      <td>['Abstract Expressionism']</td>\n",
       "      <td>kentucky-4-1951</td>\n",
       "      <td>880df359e6b11db1</td>\n",
       "      <td>1382</td>\n",
       "      <td>1625</td>\n",
       "      <td>1</td>\n",
       "      <td>train</td>\n",
       "    </tr>\n",
       "  </tbody>\n",
       "</table>\n",
       "</div>"
      ],
      "text/plain": [
       "                                            filename         artist  \\\n",
       "0  Abstract_Expressionism/aaron-siskind_acolman-1...  aaron siskind   \n",
       "1  Abstract_Expressionism/aaron-siskind_chicago-6...  aaron siskind   \n",
       "2  Abstract_Expressionism/aaron-siskind_glouceste...  aaron siskind   \n",
       "3  Abstract_Expressionism/aaron-siskind_jerome-ar...  aaron siskind   \n",
       "4  Abstract_Expressionism/aaron-siskind_kentucky-...  aaron siskind   \n",
       "\n",
       "                        genre          description             phash  width  \\\n",
       "0  ['Abstract Expressionism']       acolman-1-1955  bebbeb018a7d80a8   1922   \n",
       "1  ['Abstract Expressionism']       chicago-6-1961  d7d0781be51fc00e   1382   \n",
       "2  ['Abstract Expressionism']  gloucester-16a-1944  9f846e5a6c639325   1382   \n",
       "3  ['Abstract Expressionism']  jerome-arizona-1949  a5d691f85ac5e4d0   1382   \n",
       "4  ['Abstract Expressionism']      kentucky-4-1951  880df359e6b11db1   1382   \n",
       "\n",
       "   height  genre_count subset  \n",
       "0    1382            1  train  \n",
       "1    1746            1  train  \n",
       "2    1857            1  train  \n",
       "3    1849            1  train  \n",
       "4    1625            1  train  "
      ]
     },
     "execution_count": 1,
     "metadata": {},
     "output_type": "execute_result"
    }
   ],
   "source": [
    "import pandas as pd\n",
    "\n",
    "df_classes = pd.read_csv('./archive/classes.csv')\n",
    "df_classes.head()"
   ]
  },
  {
   "cell_type": "code",
   "execution_count": 2,
   "id": "99cfbde6",
   "metadata": {},
   "outputs": [
    {
     "name": "stdout",
     "output_type": "stream",
     "text": [
      "1119\n"
     ]
    }
   ],
   "source": [
    "print(len(df_classes.groupby([\"artist\"])))"
   ]
  },
  {
   "cell_type": "code",
   "execution_count": 3,
   "id": "8bb60f13",
   "metadata": {},
   "outputs": [
    {
     "data": {
      "text/html": [
       "<div>\n",
       "<style scoped>\n",
       "    .dataframe tbody tr th:only-of-type {\n",
       "        vertical-align: middle;\n",
       "    }\n",
       "\n",
       "    .dataframe tbody tr th {\n",
       "        vertical-align: top;\n",
       "    }\n",
       "\n",
       "    .dataframe thead th {\n",
       "        text-align: right;\n",
       "    }\n",
       "</style>\n",
       "<table border=\"1\" class=\"dataframe\">\n",
       "  <thead>\n",
       "    <tr style=\"text-align: right;\">\n",
       "      <th>subset</th>\n",
       "      <th>artist</th>\n",
       "      <th>test</th>\n",
       "      <th>train</th>\n",
       "      <th>uncertain artist</th>\n",
       "    </tr>\n",
       "  </thead>\n",
       "  <tbody>\n",
       "    <tr>\n",
       "      <th>1074</th>\n",
       "      <td>vincent van gogh</td>\n",
       "      <td>378</td>\n",
       "      <td>1510</td>\n",
       "      <td>0</td>\n",
       "    </tr>\n",
       "    <tr>\n",
       "      <th>809</th>\n",
       "      <td>nicholas roerich</td>\n",
       "      <td>363</td>\n",
       "      <td>1453</td>\n",
       "      <td>0</td>\n",
       "    </tr>\n",
       "    <tr>\n",
       "      <th>898</th>\n",
       "      <td>pierre auguste renoir</td>\n",
       "      <td>280</td>\n",
       "      <td>1117</td>\n",
       "      <td>2</td>\n",
       "    </tr>\n",
       "    <tr>\n",
       "      <th>190</th>\n",
       "      <td>claude monet</td>\n",
       "      <td>267</td>\n",
       "      <td>1067</td>\n",
       "      <td>0</td>\n",
       "    </tr>\n",
       "    <tr>\n",
       "      <th>917</th>\n",
       "      <td>pyotr konchalovsky</td>\n",
       "      <td>185</td>\n",
       "      <td>739</td>\n",
       "      <td>0</td>\n",
       "    </tr>\n",
       "    <tr>\n",
       "      <th>158</th>\n",
       "      <td>camille pissarro</td>\n",
       "      <td>177</td>\n",
       "      <td>707</td>\n",
       "      <td>0</td>\n",
       "    </tr>\n",
       "    <tr>\n",
       "      <th>34</th>\n",
       "      <td>albrecht durer</td>\n",
       "      <td>166</td>\n",
       "      <td>662</td>\n",
       "      <td>0</td>\n",
       "    </tr>\n",
       "    <tr>\n",
       "      <th>599</th>\n",
       "      <td>john singer sargent</td>\n",
       "      <td>157</td>\n",
       "      <td>625</td>\n",
       "      <td>1</td>\n",
       "    </tr>\n",
       "    <tr>\n",
       "      <th>932</th>\n",
       "      <td>rembrandt</td>\n",
       "      <td>155</td>\n",
       "      <td>621</td>\n",
       "      <td>0</td>\n",
       "    </tr>\n",
       "    <tr>\n",
       "      <th>719</th>\n",
       "      <td>marc chagall</td>\n",
       "      <td>153</td>\n",
       "      <td>612</td>\n",
       "      <td>0</td>\n",
       "    </tr>\n",
       "    <tr>\n",
       "      <th>846</th>\n",
       "      <td>pablo picasso</td>\n",
       "      <td>153</td>\n",
       "      <td>610</td>\n",
       "      <td>0</td>\n",
       "    </tr>\n",
       "    <tr>\n",
       "      <th>420</th>\n",
       "      <td>gustave dore</td>\n",
       "      <td>151</td>\n",
       "      <td>602</td>\n",
       "      <td>0</td>\n",
       "    </tr>\n",
       "    <tr>\n",
       "      <th>148</th>\n",
       "      <td>boris kustodiev</td>\n",
       "      <td>127</td>\n",
       "      <td>506</td>\n",
       "      <td>0</td>\n",
       "    </tr>\n",
       "    <tr>\n",
       "      <th>252</th>\n",
       "      <td>edgar degas</td>\n",
       "      <td>122</td>\n",
       "      <td>487</td>\n",
       "      <td>2</td>\n",
       "    </tr>\n",
       "    <tr>\n",
       "      <th>859</th>\n",
       "      <td>paul cezanne</td>\n",
       "      <td>116</td>\n",
       "      <td>463</td>\n",
       "      <td>0</td>\n",
       "    </tr>\n",
       "    <tr>\n",
       "      <th>495</th>\n",
       "      <td>ivan aivazovsky</td>\n",
       "      <td>116</td>\n",
       "      <td>461</td>\n",
       "      <td>0</td>\n",
       "    </tr>\n",
       "    <tr>\n",
       "      <th>749</th>\n",
       "      <td>martiros saryan</td>\n",
       "      <td>115</td>\n",
       "      <td>461</td>\n",
       "      <td>0</td>\n",
       "    </tr>\n",
       "    <tr>\n",
       "      <th>289</th>\n",
       "      <td>eugene boudin</td>\n",
       "      <td>111</td>\n",
       "      <td>444</td>\n",
       "      <td>0</td>\n",
       "    </tr>\n",
       "    <tr>\n",
       "      <th>180</th>\n",
       "      <td>childe hassam</td>\n",
       "      <td>110</td>\n",
       "      <td>437</td>\n",
       "      <td>0</td>\n",
       "    </tr>\n",
       "    <tr>\n",
       "      <th>476</th>\n",
       "      <td>ilya repin</td>\n",
       "      <td>108</td>\n",
       "      <td>431</td>\n",
       "      <td>0</td>\n",
       "    </tr>\n",
       "    <tr>\n",
       "      <th>504</th>\n",
       "      <td>ivan shishkin</td>\n",
       "      <td>104</td>\n",
       "      <td>416</td>\n",
       "      <td>0</td>\n",
       "    </tr>\n",
       "    <tr>\n",
       "      <th>929</th>\n",
       "      <td>raphael kirchner</td>\n",
       "      <td>103</td>\n",
       "      <td>413</td>\n",
       "      <td>0</td>\n",
       "    </tr>\n",
       "    <tr>\n",
       "      <th>448</th>\n",
       "      <td>henri matisse</td>\n",
       "      <td>98</td>\n",
       "      <td>393</td>\n",
       "      <td>0</td>\n",
       "    </tr>\n",
       "    <tr>\n",
       "      <th>978</th>\n",
       "      <td>salvador dali</td>\n",
       "      <td>96</td>\n",
       "      <td>385</td>\n",
       "      <td>0</td>\n",
       "    </tr>\n",
       "    <tr>\n",
       "      <th>157</th>\n",
       "      <td>camille corot</td>\n",
       "      <td>96</td>\n",
       "      <td>381</td>\n",
       "      <td>1</td>\n",
       "    </tr>\n",
       "  </tbody>\n",
       "</table>\n",
       "</div>"
      ],
      "text/plain": [
       "subset                 artist  test  train  uncertain artist\n",
       "1074         vincent van gogh   378   1510                 0\n",
       "809          nicholas roerich   363   1453                 0\n",
       "898     pierre auguste renoir   280   1117                 2\n",
       "190              claude monet   267   1067                 0\n",
       "917        pyotr konchalovsky   185    739                 0\n",
       "158          camille pissarro   177    707                 0\n",
       "34             albrecht durer   166    662                 0\n",
       "599       john singer sargent   157    625                 1\n",
       "932                 rembrandt   155    621                 0\n",
       "719              marc chagall   153    612                 0\n",
       "846             pablo picasso   153    610                 0\n",
       "420              gustave dore   151    602                 0\n",
       "148           boris kustodiev   127    506                 0\n",
       "252               edgar degas   122    487                 2\n",
       "859              paul cezanne   116    463                 0\n",
       "495           ivan aivazovsky   116    461                 0\n",
       "749           martiros saryan   115    461                 0\n",
       "289             eugene boudin   111    444                 0\n",
       "180             childe hassam   110    437                 0\n",
       "476                ilya repin   108    431                 0\n",
       "504             ivan shishkin   104    416                 0\n",
       "929          raphael kirchner   103    413                 0\n",
       "448             henri matisse    98    393                 0\n",
       "978             salvador dali    96    385                 0\n",
       "157             camille corot    96    381                 1"
      ]
     },
     "metadata": {},
     "output_type": "display_data"
    },
    {
     "name": "stdout",
     "output_type": "stream",
     "text": [
      "train:10722, valid:5281, test:4007\n"
     ]
    }
   ],
   "source": [
    "import numpy as np \n",
    "import matplotlib.pyplot as plt\n",
    "import seaborn as sns\n",
    "\n",
    "import os\n",
    "\n",
    "import math\n",
    "\n",
    "from sklearn.preprocessing import LabelEncoder\n",
    "from sklearn.model_selection import train_test_split\n",
    "\n",
    "from sklearn.metrics import *\n",
    "\n",
    "from tqdm.notebook import tqdm\n",
    "\n",
    "\n",
    "\n",
    "\n",
    "N_TOP = 25\n",
    "\n",
    "df = df_classes.groupby([\"subset\",\"artist\"]).size().reset_index()\n",
    "df.columns = [\"subset\", \"artist\", \"size\"]\n",
    "df = df.pivot(index=\"artist\",columns=\"subset\", values=\"size\")\n",
    "df = df.reset_index()\n",
    "df = df.fillna(0).sort_values(by=\"train\", ascending=False)\n",
    "df[\"train\"] = df[\"train\"].astype(np.int16)\n",
    "df[\"test\"] = df[\"test\"].astype(np.int16)\n",
    "df[\"uncertain artist\"] = df[\"uncertain artist\"].astype(np.int16)\n",
    "\n",
    "df=df.sort_values(by=\"train\", ascending=False)\n",
    "\n",
    "top_artists = df[\"artist\"].values[:N_TOP]\n",
    "display(df.head(N_TOP))\n",
    "\n",
    "df_all = df_classes[df_classes[\"artist\"].isin(top_artists)].reset_index(drop = True)\n",
    "le = LabelEncoder()\n",
    "df_all[\"artist_class\"] = le.fit_transform(df_all[\"artist\"].values)\n",
    "class_names = le.classes_\n",
    "\n",
    "    \n",
    "    \n",
    "df_train = df_all.query(\"subset == 'train'\").reset_index(drop = True)\n",
    "df_test = df_all.query(\"subset == 'test'\").reset_index(drop = True)\n",
    "\n",
    "\n",
    "df_train, df_valid, y_train, y_valid =  train_test_split(df_train, df_train[\"artist\"], \n",
    "                                                                   test_size=0.33, random_state=42, \n",
    "                                                                   stratify=df_train[\"artist\"])\n",
    "\n",
    "\n",
    "print(f\"train:{df_train.shape[0]}, valid:{df_valid.shape[0]}, test:{df_test.shape[0]}\")\n"
   ]
  },
  {
   "cell_type": "code",
   "execution_count": 4,
   "id": "471c43b3",
   "metadata": {},
   "outputs": [],
   "source": [
    "df_train=df_train.reset_index().reset_index().rename({\"index\":\"id\"})"
   ]
  },
  {
   "cell_type": "code",
   "execution_count": 5,
   "id": "f56c7b6d",
   "metadata": {},
   "outputs": [],
   "source": [
    "df_train=df_train.drop(labels=\"index\",axis=1)"
   ]
  },
  {
   "cell_type": "code",
   "execution_count": 6,
   "id": "be19de9d",
   "metadata": {},
   "outputs": [],
   "source": [
    "df_train.rename(columns={\"level_0\":\"index\"},inplace=True)"
   ]
  },
  {
   "cell_type": "code",
   "execution_count": 7,
   "id": "91354dc3",
   "metadata": {},
   "outputs": [
    {
     "data": {
      "text/html": [
       "<div>\n",
       "<style scoped>\n",
       "    .dataframe tbody tr th:only-of-type {\n",
       "        vertical-align: middle;\n",
       "    }\n",
       "\n",
       "    .dataframe tbody tr th {\n",
       "        vertical-align: top;\n",
       "    }\n",
       "\n",
       "    .dataframe thead th {\n",
       "        text-align: right;\n",
       "    }\n",
       "</style>\n",
       "<table border=\"1\" class=\"dataframe\">\n",
       "  <thead>\n",
       "    <tr style=\"text-align: right;\">\n",
       "      <th></th>\n",
       "      <th>index</th>\n",
       "      <th>filename</th>\n",
       "      <th>artist</th>\n",
       "      <th>genre</th>\n",
       "      <th>description</th>\n",
       "      <th>phash</th>\n",
       "      <th>width</th>\n",
       "      <th>height</th>\n",
       "      <th>genre_count</th>\n",
       "      <th>subset</th>\n",
       "      <th>artist_class</th>\n",
       "    </tr>\n",
       "  </thead>\n",
       "  <tbody>\n",
       "    <tr>\n",
       "      <th>0</th>\n",
       "      <td>0</td>\n",
       "      <td>Naive_Art_Primitivism/pablo-picasso_jug-with-h...</td>\n",
       "      <td>pablo picasso</td>\n",
       "      <td>['Naive Art Primitivism']</td>\n",
       "      <td>jug-with-handle-1954</td>\n",
       "      <td>c8263591cb59b567</td>\n",
       "      <td>1382</td>\n",
       "      <td>2132</td>\n",
       "      <td>1</td>\n",
       "      <td>train</td>\n",
       "      <td>17</td>\n",
       "    </tr>\n",
       "    <tr>\n",
       "      <th>1</th>\n",
       "      <td>1</td>\n",
       "      <td>Impressionism/henri-matisse_blue-pot-and-lemon...</td>\n",
       "      <td>henri matisse</td>\n",
       "      <td>['Impressionism']</td>\n",
       "      <td>blue-pot-and-lemon-1897</td>\n",
       "      <td>8c8ca5955e6a639b</td>\n",
       "      <td>1668</td>\n",
       "      <td>1382</td>\n",
       "      <td>1</td>\n",
       "      <td>train</td>\n",
       "      <td>9</td>\n",
       "    </tr>\n",
       "    <tr>\n",
       "      <th>2</th>\n",
       "      <td>2</td>\n",
       "      <td>Realism/nicholas-roerich_the-kremlin-tower-of-...</td>\n",
       "      <td>nicholas roerich</td>\n",
       "      <td>['Realism']</td>\n",
       "      <td>the-kremlin-tower-of-novgorod-1903</td>\n",
       "      <td>f6d6b6b6b6048425</td>\n",
       "      <td>1382</td>\n",
       "      <td>1539</td>\n",
       "      <td>1</td>\n",
       "      <td>train</td>\n",
       "      <td>16</td>\n",
       "    </tr>\n",
       "    <tr>\n",
       "      <th>3</th>\n",
       "      <td>3</td>\n",
       "      <td>Realism/ivan-shishkin_polesye.jpg</td>\n",
       "      <td>ivan shishkin</td>\n",
       "      <td>['Realism']</td>\n",
       "      <td>polesye</td>\n",
       "      <td>83ed70178ee36e18</td>\n",
       "      <td>2314</td>\n",
       "      <td>1382</td>\n",
       "      <td>1</td>\n",
       "      <td>train</td>\n",
       "      <td>12</td>\n",
       "    </tr>\n",
       "    <tr>\n",
       "      <th>4</th>\n",
       "      <td>4</td>\n",
       "      <td>Post_Impressionism/vincent-van-gogh_still-life...</td>\n",
       "      <td>vincent van gogh</td>\n",
       "      <td>['Post Impressionism']</td>\n",
       "      <td>still-life-with-apples-1887</td>\n",
       "      <td>87e4b097c4e80fd5</td>\n",
       "      <td>1935</td>\n",
       "      <td>1382</td>\n",
       "      <td>1</td>\n",
       "      <td>train</td>\n",
       "      <td>24</td>\n",
       "    </tr>\n",
       "  </tbody>\n",
       "</table>\n",
       "</div>"
      ],
      "text/plain": [
       "   index                                           filename            artist  \\\n",
       "0      0  Naive_Art_Primitivism/pablo-picasso_jug-with-h...     pablo picasso   \n",
       "1      1  Impressionism/henri-matisse_blue-pot-and-lemon...     henri matisse   \n",
       "2      2  Realism/nicholas-roerich_the-kremlin-tower-of-...  nicholas roerich   \n",
       "3      3                  Realism/ivan-shishkin_polesye.jpg     ivan shishkin   \n",
       "4      4  Post_Impressionism/vincent-van-gogh_still-life...  vincent van gogh   \n",
       "\n",
       "                       genre                         description  \\\n",
       "0  ['Naive Art Primitivism']                jug-with-handle-1954   \n",
       "1          ['Impressionism']             blue-pot-and-lemon-1897   \n",
       "2                ['Realism']  the-kremlin-tower-of-novgorod-1903   \n",
       "3                ['Realism']                             polesye   \n",
       "4     ['Post Impressionism']         still-life-with-apples-1887   \n",
       "\n",
       "              phash  width  height  genre_count subset  artist_class  \n",
       "0  c8263591cb59b567   1382    2132            1  train            17  \n",
       "1  8c8ca5955e6a639b   1668    1382            1  train             9  \n",
       "2  f6d6b6b6b6048425   1382    1539            1  train            16  \n",
       "3  83ed70178ee36e18   2314    1382            1  train            12  \n",
       "4  87e4b097c4e80fd5   1935    1382            1  train            24  "
      ]
     },
     "execution_count": 7,
     "metadata": {},
     "output_type": "execute_result"
    }
   ],
   "source": [
    "df_train.head()"
   ]
  },
  {
   "cell_type": "code",
   "execution_count": 8,
   "id": "d8b71a99",
   "metadata": {},
   "outputs": [
    {
     "data": {
      "text/html": [
       "<div>\n",
       "<style scoped>\n",
       "    .dataframe tbody tr th:only-of-type {\n",
       "        vertical-align: middle;\n",
       "    }\n",
       "\n",
       "    .dataframe tbody tr th {\n",
       "        vertical-align: top;\n",
       "    }\n",
       "\n",
       "    .dataframe thead th {\n",
       "        text-align: right;\n",
       "    }\n",
       "</style>\n",
       "<table border=\"1\" class=\"dataframe\">\n",
       "  <thead>\n",
       "    <tr style=\"text-align: right;\">\n",
       "      <th></th>\n",
       "      <th>filename</th>\n",
       "      <th>artist</th>\n",
       "      <th>genre</th>\n",
       "      <th>description</th>\n",
       "      <th>phash</th>\n",
       "      <th>width</th>\n",
       "      <th>height</th>\n",
       "      <th>genre_count</th>\n",
       "      <th>subset</th>\n",
       "      <th>artist_class</th>\n",
       "    </tr>\n",
       "  </thead>\n",
       "  <tbody>\n",
       "    <tr>\n",
       "      <th>0</th>\n",
       "      <td>Abstract_Expressionism/henri-matisse_blue-nude...</td>\n",
       "      <td>henri matisse</td>\n",
       "      <td>['Abstract Expressionism']</td>\n",
       "      <td>blue-nude-1952</td>\n",
       "      <td>afbcd133d0ccc069</td>\n",
       "      <td>1382</td>\n",
       "      <td>1769</td>\n",
       "      <td>1</td>\n",
       "      <td>test</td>\n",
       "      <td>9</td>\n",
       "    </tr>\n",
       "    <tr>\n",
       "      <th>1</th>\n",
       "      <td>Abstract_Expressionism/henri-matisse_blue-nude...</td>\n",
       "      <td>henri matisse</td>\n",
       "      <td>['Abstract Expressionism']</td>\n",
       "      <td>blue-nude</td>\n",
       "      <td>ff58d824d109cc6e</td>\n",
       "      <td>1382</td>\n",
       "      <td>2145</td>\n",
       "      <td>1</td>\n",
       "      <td>test</td>\n",
       "      <td>9</td>\n",
       "    </tr>\n",
       "    <tr>\n",
       "      <th>2</th>\n",
       "      <td>Abstract_Expressionism/henri-matisse_cut-outs-...</td>\n",
       "      <td>henri matisse</td>\n",
       "      <td>['Abstract Expressionism']</td>\n",
       "      <td>cut-outs-1</td>\n",
       "      <td>b2cf336117ca8713</td>\n",
       "      <td>2092</td>\n",
       "      <td>1382</td>\n",
       "      <td>1</td>\n",
       "      <td>test</td>\n",
       "      <td>9</td>\n",
       "    </tr>\n",
       "    <tr>\n",
       "      <th>3</th>\n",
       "      <td>Abstract_Expressionism/henri-matisse_cut-outs.jpg</td>\n",
       "      <td>henri matisse</td>\n",
       "      <td>['Abstract Expressionism']</td>\n",
       "      <td>cut-outs</td>\n",
       "      <td>bff3c8b6c0c9c08c</td>\n",
       "      <td>2082</td>\n",
       "      <td>1382</td>\n",
       "      <td>1</td>\n",
       "      <td>test</td>\n",
       "      <td>9</td>\n",
       "    </tr>\n",
       "    <tr>\n",
       "      <th>4</th>\n",
       "      <td>Abstract_Expressionism/henri-matisse_la-gerbe-...</td>\n",
       "      <td>henri matisse</td>\n",
       "      <td>['Abstract Expressionism']</td>\n",
       "      <td>la-gerbe-1953</td>\n",
       "      <td>acbccdc290b3db05</td>\n",
       "      <td>1675</td>\n",
       "      <td>1382</td>\n",
       "      <td>1</td>\n",
       "      <td>test</td>\n",
       "      <td>9</td>\n",
       "    </tr>\n",
       "  </tbody>\n",
       "</table>\n",
       "</div>"
      ],
      "text/plain": [
       "                                            filename         artist  \\\n",
       "0  Abstract_Expressionism/henri-matisse_blue-nude...  henri matisse   \n",
       "1  Abstract_Expressionism/henri-matisse_blue-nude...  henri matisse   \n",
       "2  Abstract_Expressionism/henri-matisse_cut-outs-...  henri matisse   \n",
       "3  Abstract_Expressionism/henri-matisse_cut-outs.jpg  henri matisse   \n",
       "4  Abstract_Expressionism/henri-matisse_la-gerbe-...  henri matisse   \n",
       "\n",
       "                        genre     description             phash  width  \\\n",
       "0  ['Abstract Expressionism']  blue-nude-1952  afbcd133d0ccc069   1382   \n",
       "1  ['Abstract Expressionism']       blue-nude  ff58d824d109cc6e   1382   \n",
       "2  ['Abstract Expressionism']      cut-outs-1  b2cf336117ca8713   2092   \n",
       "3  ['Abstract Expressionism']        cut-outs  bff3c8b6c0c9c08c   2082   \n",
       "4  ['Abstract Expressionism']   la-gerbe-1953  acbccdc290b3db05   1675   \n",
       "\n",
       "   height  genre_count subset  artist_class  \n",
       "0    1769            1   test             9  \n",
       "1    2145            1   test             9  \n",
       "2    1382            1   test             9  \n",
       "3    1382            1   test             9  \n",
       "4    1382            1   test             9  "
      ]
     },
     "execution_count": 8,
     "metadata": {},
     "output_type": "execute_result"
    }
   ],
   "source": [
    "df_test.head()"
   ]
  },
  {
   "cell_type": "code",
   "execution_count": 9,
   "id": "f51a4f82",
   "metadata": {},
   "outputs": [],
   "source": [
    "def get_data(df):\n",
    "    ds_path = \"./archive/\"\n",
    "    filenames = [ f\"{ds_path}/{filename}\" for filename in  df[\"filename\"].values]\n",
    "    labels = [artist for artist in df[\"artist_class\"]]\n",
    "    #ds = tf.data.Dataset.from_tensor_slices((filenames, labels))\n",
    "    #return ds\n",
    "    return filenames,labels"
   ]
  },
  {
   "cell_type": "code",
   "execution_count": 10,
   "id": "bdb37ad1",
   "metadata": {},
   "outputs": [],
   "source": [
    "train_img_paths, train_labels = get_data(df_train)\n",
    "val_img_paths, val_labels = get_data(df_valid)\n",
    "test_img_paths, test_labels = get_data(df_test)"
   ]
  },
  {
   "cell_type": "code",
   "execution_count": 11,
   "id": "f46a32d6",
   "metadata": {},
   "outputs": [],
   "source": [
    "import random\n",
    "import pandas as pd\n",
    "import numpy as np\n",
    "import os\n",
    "import cv2\n",
    "import time\n",
    "import datetime\n",
    "\n",
    "from sklearn import preprocessing\n",
    "from sklearn.model_selection import train_test_split\n",
    "\n",
    "import torch\n",
    "import torch.nn as nn\n",
    "import torch.optim as optim\n",
    "import torch.nn.functional as F\n",
    "from torch.utils.data import Dataset, DataLoader\n",
    "\n",
    "from tqdm.auto import tqdm\n",
    "\n",
    "import albumentations as A\n",
    "from albumentations.pytorch.transforms import ToTensorV2\n",
    "\n",
    "import torchvision.models as models\n",
    "\n",
    "from sklearn.metrics import f1_score\n",
    "import matplotlib.pyplot as plt\n",
    "\n",
    "import warnings\n",
    "\n",
    "\n",
    "class CustomDataset(Dataset):\n",
    "    def __init__(self, img_paths, labels, transforms=None):\n",
    "        self.img_paths = img_paths\n",
    "        self.labels = labels\n",
    "        self.transforms = transforms\n",
    "\n",
    "    def __getitem__(self, index):\n",
    "        img_path = self.img_paths[index]\n",
    "        image = cv2.imread(img_path)\n",
    "        image = np.array(image)\n",
    "        #image = cv2.cvtColor(image, cv2.COLOR_BGR2RGB)\n",
    "        \n",
    "        if self.transforms is not None:\n",
    "            image = self.transforms(image=image)['image']\n",
    "        \n",
    "        if self.labels is not None:\n",
    "            label = self.labels[index]\n",
    "            return image, label\n",
    "        else:\n",
    "            return image\n",
    "    \n",
    "    def __len__(self):\n",
    "        return len(self.img_paths)"
   ]
  },
  {
   "cell_type": "code",
   "execution_count": 12,
   "id": "dc313479",
   "metadata": {},
   "outputs": [],
   "source": [
    "CFG = {\n",
    "    'IMG_SIZE':224,\n",
    "    'BATCH_SIZE':16,\n",
    "    'SEED':41\n",
    "}"
   ]
  },
  {
   "cell_type": "code",
   "execution_count": 13,
   "id": "764bcc00",
   "metadata": {},
   "outputs": [],
   "source": [
    "train_transform = A.Compose([\n",
    "                            A.Resize(CFG['IMG_SIZE']*2,CFG['IMG_SIZE']*2),\n",
    "                            A.RandomCrop(CFG['IMG_SIZE'],CFG['IMG_SIZE']),\n",
    "                            A.HorizontalFlip(p=0.5),\n",
    "                            A.VerticalFlip(p=0.5),\n",
    "                            A.ShiftScaleRotate(p=0.5),\n",
    "                            A.OneOf([\n",
    "                                A.CLAHE(clip_limit=2),\n",
    "                                A.RandomBrightnessContrast(),\n",
    "                            ], p=0.3),\n",
    "                            A.Normalize(mean=(0.485, 0.456, 0.406), std=(0.229, 0.224, 0.225), max_pixel_value=255.0, always_apply=False, p=1.0),\n",
    "                            ToTensorV2()\n",
    "                            ])\n",
    "\n",
    "val_transform = A.Compose([\n",
    "                            A.Resize(CFG['IMG_SIZE']*2,CFG['IMG_SIZE']*2),\n",
    "                            A.RandomCrop(CFG['IMG_SIZE'],CFG['IMG_SIZE']),\n",
    "                            A.Normalize(mean=(0.485, 0.456, 0.406), std=(0.229, 0.224, 0.225), max_pixel_value=255.0, always_apply=False, p=1.0),\n",
    "                            ToTensorV2()\n",
    "                            ])\n",
    "\n",
    "test_transform = A.Compose([\n",
    "                            A.Resize(CFG['IMG_SIZE'],CFG['IMG_SIZE']),\n",
    "                            A.Normalize(mean=(0.485, 0.456, 0.406), std=(0.229, 0.224, 0.225), max_pixel_value=255.0, always_apply=False, p=1.0),\n",
    "                            ToTensorV2()\n",
    "                            ])"
   ]
  },
  {
   "cell_type": "code",
   "execution_count": 14,
   "id": "0ce6c9a1",
   "metadata": {},
   "outputs": [],
   "source": [
    "train_dataset = CustomDataset(train_img_paths, train_labels, train_transform)\n",
    "train_loader = DataLoader(train_dataset, batch_size = CFG['BATCH_SIZE'], shuffle=True, num_workers=0, pin_memory=True, drop_last=True)\n",
    "\n",
    "val_dataset = CustomDataset(val_img_paths, val_labels, val_transform)\n",
    "val_loader = DataLoader(val_dataset, batch_size=CFG['BATCH_SIZE'], shuffle=False, num_workers=0, pin_memory=True, drop_last=True)"
   ]
  },
  {
   "cell_type": "code",
   "execution_count": 15,
   "id": "d4e0a901",
   "metadata": {},
   "outputs": [],
   "source": [
    "#from torch.optim import lr_scheduler\n",
    "\n",
    "model_ft = models.resnet50(pretrained=True)\n",
    "\n",
    "for param in model_ft.parameters():\n",
    "    param.requires_grad = False\n",
    "\n",
    "# 모든 가중치 freeze 시킨 후 fc layer 새로 정의하면 fc layer만 학습 가능\n",
    "# fc layer 2개로 변경\n",
    "num_ftrs = model_ft.fc.in_features\n",
    "model_ft.fc = nn.Sequential(\n",
    "    nn.Linear(num_ftrs, 1024),\n",
    "    nn.Linear(1024, 25))\n",
    "\n"
   ]
  },
  {
   "cell_type": "code",
   "execution_count": 16,
   "id": "1bd7e132",
   "metadata": {},
   "outputs": [
    {
     "data": {
      "text/plain": [
       "ResNet(\n",
       "  (conv1): Conv2d(3, 64, kernel_size=(7, 7), stride=(2, 2), padding=(3, 3), bias=False)\n",
       "  (bn1): BatchNorm2d(64, eps=1e-05, momentum=0.1, affine=True, track_running_stats=True)\n",
       "  (relu): ReLU(inplace=True)\n",
       "  (maxpool): MaxPool2d(kernel_size=3, stride=2, padding=1, dilation=1, ceil_mode=False)\n",
       "  (layer1): Sequential(\n",
       "    (0): Bottleneck(\n",
       "      (conv1): Conv2d(64, 64, kernel_size=(1, 1), stride=(1, 1), bias=False)\n",
       "      (bn1): BatchNorm2d(64, eps=1e-05, momentum=0.1, affine=True, track_running_stats=True)\n",
       "      (conv2): Conv2d(64, 64, kernel_size=(3, 3), stride=(1, 1), padding=(1, 1), bias=False)\n",
       "      (bn2): BatchNorm2d(64, eps=1e-05, momentum=0.1, affine=True, track_running_stats=True)\n",
       "      (conv3): Conv2d(64, 256, kernel_size=(1, 1), stride=(1, 1), bias=False)\n",
       "      (bn3): BatchNorm2d(256, eps=1e-05, momentum=0.1, affine=True, track_running_stats=True)\n",
       "      (relu): ReLU(inplace=True)\n",
       "      (downsample): Sequential(\n",
       "        (0): Conv2d(64, 256, kernel_size=(1, 1), stride=(1, 1), bias=False)\n",
       "        (1): BatchNorm2d(256, eps=1e-05, momentum=0.1, affine=True, track_running_stats=True)\n",
       "      )\n",
       "    )\n",
       "    (1): Bottleneck(\n",
       "      (conv1): Conv2d(256, 64, kernel_size=(1, 1), stride=(1, 1), bias=False)\n",
       "      (bn1): BatchNorm2d(64, eps=1e-05, momentum=0.1, affine=True, track_running_stats=True)\n",
       "      (conv2): Conv2d(64, 64, kernel_size=(3, 3), stride=(1, 1), padding=(1, 1), bias=False)\n",
       "      (bn2): BatchNorm2d(64, eps=1e-05, momentum=0.1, affine=True, track_running_stats=True)\n",
       "      (conv3): Conv2d(64, 256, kernel_size=(1, 1), stride=(1, 1), bias=False)\n",
       "      (bn3): BatchNorm2d(256, eps=1e-05, momentum=0.1, affine=True, track_running_stats=True)\n",
       "      (relu): ReLU(inplace=True)\n",
       "    )\n",
       "    (2): Bottleneck(\n",
       "      (conv1): Conv2d(256, 64, kernel_size=(1, 1), stride=(1, 1), bias=False)\n",
       "      (bn1): BatchNorm2d(64, eps=1e-05, momentum=0.1, affine=True, track_running_stats=True)\n",
       "      (conv2): Conv2d(64, 64, kernel_size=(3, 3), stride=(1, 1), padding=(1, 1), bias=False)\n",
       "      (bn2): BatchNorm2d(64, eps=1e-05, momentum=0.1, affine=True, track_running_stats=True)\n",
       "      (conv3): Conv2d(64, 256, kernel_size=(1, 1), stride=(1, 1), bias=False)\n",
       "      (bn3): BatchNorm2d(256, eps=1e-05, momentum=0.1, affine=True, track_running_stats=True)\n",
       "      (relu): ReLU(inplace=True)\n",
       "    )\n",
       "  )\n",
       "  (layer2): Sequential(\n",
       "    (0): Bottleneck(\n",
       "      (conv1): Conv2d(256, 128, kernel_size=(1, 1), stride=(1, 1), bias=False)\n",
       "      (bn1): BatchNorm2d(128, eps=1e-05, momentum=0.1, affine=True, track_running_stats=True)\n",
       "      (conv2): Conv2d(128, 128, kernel_size=(3, 3), stride=(2, 2), padding=(1, 1), bias=False)\n",
       "      (bn2): BatchNorm2d(128, eps=1e-05, momentum=0.1, affine=True, track_running_stats=True)\n",
       "      (conv3): Conv2d(128, 512, kernel_size=(1, 1), stride=(1, 1), bias=False)\n",
       "      (bn3): BatchNorm2d(512, eps=1e-05, momentum=0.1, affine=True, track_running_stats=True)\n",
       "      (relu): ReLU(inplace=True)\n",
       "      (downsample): Sequential(\n",
       "        (0): Conv2d(256, 512, kernel_size=(1, 1), stride=(2, 2), bias=False)\n",
       "        (1): BatchNorm2d(512, eps=1e-05, momentum=0.1, affine=True, track_running_stats=True)\n",
       "      )\n",
       "    )\n",
       "    (1): Bottleneck(\n",
       "      (conv1): Conv2d(512, 128, kernel_size=(1, 1), stride=(1, 1), bias=False)\n",
       "      (bn1): BatchNorm2d(128, eps=1e-05, momentum=0.1, affine=True, track_running_stats=True)\n",
       "      (conv2): Conv2d(128, 128, kernel_size=(3, 3), stride=(1, 1), padding=(1, 1), bias=False)\n",
       "      (bn2): BatchNorm2d(128, eps=1e-05, momentum=0.1, affine=True, track_running_stats=True)\n",
       "      (conv3): Conv2d(128, 512, kernel_size=(1, 1), stride=(1, 1), bias=False)\n",
       "      (bn3): BatchNorm2d(512, eps=1e-05, momentum=0.1, affine=True, track_running_stats=True)\n",
       "      (relu): ReLU(inplace=True)\n",
       "    )\n",
       "    (2): Bottleneck(\n",
       "      (conv1): Conv2d(512, 128, kernel_size=(1, 1), stride=(1, 1), bias=False)\n",
       "      (bn1): BatchNorm2d(128, eps=1e-05, momentum=0.1, affine=True, track_running_stats=True)\n",
       "      (conv2): Conv2d(128, 128, kernel_size=(3, 3), stride=(1, 1), padding=(1, 1), bias=False)\n",
       "      (bn2): BatchNorm2d(128, eps=1e-05, momentum=0.1, affine=True, track_running_stats=True)\n",
       "      (conv3): Conv2d(128, 512, kernel_size=(1, 1), stride=(1, 1), bias=False)\n",
       "      (bn3): BatchNorm2d(512, eps=1e-05, momentum=0.1, affine=True, track_running_stats=True)\n",
       "      (relu): ReLU(inplace=True)\n",
       "    )\n",
       "    (3): Bottleneck(\n",
       "      (conv1): Conv2d(512, 128, kernel_size=(1, 1), stride=(1, 1), bias=False)\n",
       "      (bn1): BatchNorm2d(128, eps=1e-05, momentum=0.1, affine=True, track_running_stats=True)\n",
       "      (conv2): Conv2d(128, 128, kernel_size=(3, 3), stride=(1, 1), padding=(1, 1), bias=False)\n",
       "      (bn2): BatchNorm2d(128, eps=1e-05, momentum=0.1, affine=True, track_running_stats=True)\n",
       "      (conv3): Conv2d(128, 512, kernel_size=(1, 1), stride=(1, 1), bias=False)\n",
       "      (bn3): BatchNorm2d(512, eps=1e-05, momentum=0.1, affine=True, track_running_stats=True)\n",
       "      (relu): ReLU(inplace=True)\n",
       "    )\n",
       "  )\n",
       "  (layer3): Sequential(\n",
       "    (0): Bottleneck(\n",
       "      (conv1): Conv2d(512, 256, kernel_size=(1, 1), stride=(1, 1), bias=False)\n",
       "      (bn1): BatchNorm2d(256, eps=1e-05, momentum=0.1, affine=True, track_running_stats=True)\n",
       "      (conv2): Conv2d(256, 256, kernel_size=(3, 3), stride=(2, 2), padding=(1, 1), bias=False)\n",
       "      (bn2): BatchNorm2d(256, eps=1e-05, momentum=0.1, affine=True, track_running_stats=True)\n",
       "      (conv3): Conv2d(256, 1024, kernel_size=(1, 1), stride=(1, 1), bias=False)\n",
       "      (bn3): BatchNorm2d(1024, eps=1e-05, momentum=0.1, affine=True, track_running_stats=True)\n",
       "      (relu): ReLU(inplace=True)\n",
       "      (downsample): Sequential(\n",
       "        (0): Conv2d(512, 1024, kernel_size=(1, 1), stride=(2, 2), bias=False)\n",
       "        (1): BatchNorm2d(1024, eps=1e-05, momentum=0.1, affine=True, track_running_stats=True)\n",
       "      )\n",
       "    )\n",
       "    (1): Bottleneck(\n",
       "      (conv1): Conv2d(1024, 256, kernel_size=(1, 1), stride=(1, 1), bias=False)\n",
       "      (bn1): BatchNorm2d(256, eps=1e-05, momentum=0.1, affine=True, track_running_stats=True)\n",
       "      (conv2): Conv2d(256, 256, kernel_size=(3, 3), stride=(1, 1), padding=(1, 1), bias=False)\n",
       "      (bn2): BatchNorm2d(256, eps=1e-05, momentum=0.1, affine=True, track_running_stats=True)\n",
       "      (conv3): Conv2d(256, 1024, kernel_size=(1, 1), stride=(1, 1), bias=False)\n",
       "      (bn3): BatchNorm2d(1024, eps=1e-05, momentum=0.1, affine=True, track_running_stats=True)\n",
       "      (relu): ReLU(inplace=True)\n",
       "    )\n",
       "    (2): Bottleneck(\n",
       "      (conv1): Conv2d(1024, 256, kernel_size=(1, 1), stride=(1, 1), bias=False)\n",
       "      (bn1): BatchNorm2d(256, eps=1e-05, momentum=0.1, affine=True, track_running_stats=True)\n",
       "      (conv2): Conv2d(256, 256, kernel_size=(3, 3), stride=(1, 1), padding=(1, 1), bias=False)\n",
       "      (bn2): BatchNorm2d(256, eps=1e-05, momentum=0.1, affine=True, track_running_stats=True)\n",
       "      (conv3): Conv2d(256, 1024, kernel_size=(1, 1), stride=(1, 1), bias=False)\n",
       "      (bn3): BatchNorm2d(1024, eps=1e-05, momentum=0.1, affine=True, track_running_stats=True)\n",
       "      (relu): ReLU(inplace=True)\n",
       "    )\n",
       "    (3): Bottleneck(\n",
       "      (conv1): Conv2d(1024, 256, kernel_size=(1, 1), stride=(1, 1), bias=False)\n",
       "      (bn1): BatchNorm2d(256, eps=1e-05, momentum=0.1, affine=True, track_running_stats=True)\n",
       "      (conv2): Conv2d(256, 256, kernel_size=(3, 3), stride=(1, 1), padding=(1, 1), bias=False)\n",
       "      (bn2): BatchNorm2d(256, eps=1e-05, momentum=0.1, affine=True, track_running_stats=True)\n",
       "      (conv3): Conv2d(256, 1024, kernel_size=(1, 1), stride=(1, 1), bias=False)\n",
       "      (bn3): BatchNorm2d(1024, eps=1e-05, momentum=0.1, affine=True, track_running_stats=True)\n",
       "      (relu): ReLU(inplace=True)\n",
       "    )\n",
       "    (4): Bottleneck(\n",
       "      (conv1): Conv2d(1024, 256, kernel_size=(1, 1), stride=(1, 1), bias=False)\n",
       "      (bn1): BatchNorm2d(256, eps=1e-05, momentum=0.1, affine=True, track_running_stats=True)\n",
       "      (conv2): Conv2d(256, 256, kernel_size=(3, 3), stride=(1, 1), padding=(1, 1), bias=False)\n",
       "      (bn2): BatchNorm2d(256, eps=1e-05, momentum=0.1, affine=True, track_running_stats=True)\n",
       "      (conv3): Conv2d(256, 1024, kernel_size=(1, 1), stride=(1, 1), bias=False)\n",
       "      (bn3): BatchNorm2d(1024, eps=1e-05, momentum=0.1, affine=True, track_running_stats=True)\n",
       "      (relu): ReLU(inplace=True)\n",
       "    )\n",
       "    (5): Bottleneck(\n",
       "      (conv1): Conv2d(1024, 256, kernel_size=(1, 1), stride=(1, 1), bias=False)\n",
       "      (bn1): BatchNorm2d(256, eps=1e-05, momentum=0.1, affine=True, track_running_stats=True)\n",
       "      (conv2): Conv2d(256, 256, kernel_size=(3, 3), stride=(1, 1), padding=(1, 1), bias=False)\n",
       "      (bn2): BatchNorm2d(256, eps=1e-05, momentum=0.1, affine=True, track_running_stats=True)\n",
       "      (conv3): Conv2d(256, 1024, kernel_size=(1, 1), stride=(1, 1), bias=False)\n",
       "      (bn3): BatchNorm2d(1024, eps=1e-05, momentum=0.1, affine=True, track_running_stats=True)\n",
       "      (relu): ReLU(inplace=True)\n",
       "    )\n",
       "  )\n",
       "  (layer4): Sequential(\n",
       "    (0): Bottleneck(\n",
       "      (conv1): Conv2d(1024, 512, kernel_size=(1, 1), stride=(1, 1), bias=False)\n",
       "      (bn1): BatchNorm2d(512, eps=1e-05, momentum=0.1, affine=True, track_running_stats=True)\n",
       "      (conv2): Conv2d(512, 512, kernel_size=(3, 3), stride=(2, 2), padding=(1, 1), bias=False)\n",
       "      (bn2): BatchNorm2d(512, eps=1e-05, momentum=0.1, affine=True, track_running_stats=True)\n",
       "      (conv3): Conv2d(512, 2048, kernel_size=(1, 1), stride=(1, 1), bias=False)\n",
       "      (bn3): BatchNorm2d(2048, eps=1e-05, momentum=0.1, affine=True, track_running_stats=True)\n",
       "      (relu): ReLU(inplace=True)\n",
       "      (downsample): Sequential(\n",
       "        (0): Conv2d(1024, 2048, kernel_size=(1, 1), stride=(2, 2), bias=False)\n",
       "        (1): BatchNorm2d(2048, eps=1e-05, momentum=0.1, affine=True, track_running_stats=True)\n",
       "      )\n",
       "    )\n",
       "    (1): Bottleneck(\n",
       "      (conv1): Conv2d(2048, 512, kernel_size=(1, 1), stride=(1, 1), bias=False)\n",
       "      (bn1): BatchNorm2d(512, eps=1e-05, momentum=0.1, affine=True, track_running_stats=True)\n",
       "      (conv2): Conv2d(512, 512, kernel_size=(3, 3), stride=(1, 1), padding=(1, 1), bias=False)\n",
       "      (bn2): BatchNorm2d(512, eps=1e-05, momentum=0.1, affine=True, track_running_stats=True)\n",
       "      (conv3): Conv2d(512, 2048, kernel_size=(1, 1), stride=(1, 1), bias=False)\n",
       "      (bn3): BatchNorm2d(2048, eps=1e-05, momentum=0.1, affine=True, track_running_stats=True)\n",
       "      (relu): ReLU(inplace=True)\n",
       "    )\n",
       "    (2): Bottleneck(\n",
       "      (conv1): Conv2d(2048, 512, kernel_size=(1, 1), stride=(1, 1), bias=False)\n",
       "      (bn1): BatchNorm2d(512, eps=1e-05, momentum=0.1, affine=True, track_running_stats=True)\n",
       "      (conv2): Conv2d(512, 512, kernel_size=(3, 3), stride=(1, 1), padding=(1, 1), bias=False)\n",
       "      (bn2): BatchNorm2d(512, eps=1e-05, momentum=0.1, affine=True, track_running_stats=True)\n",
       "      (conv3): Conv2d(512, 2048, kernel_size=(1, 1), stride=(1, 1), bias=False)\n",
       "      (bn3): BatchNorm2d(2048, eps=1e-05, momentum=0.1, affine=True, track_running_stats=True)\n",
       "      (relu): ReLU(inplace=True)\n",
       "    )\n",
       "  )\n",
       "  (avgpool): AdaptiveAvgPool2d(output_size=(1, 1))\n",
       "  (fc): Sequential(\n",
       "    (0): Linear(in_features=2048, out_features=1024, bias=True)\n",
       "    (1): Linear(in_features=1024, out_features=25, bias=True)\n",
       "  )\n",
       ")"
      ]
     },
     "execution_count": 16,
     "metadata": {},
     "output_type": "execute_result"
    }
   ],
   "source": [
    "model_ft"
   ]
  },
  {
   "cell_type": "code",
   "execution_count": 17,
   "id": "54571f1b",
   "metadata": {},
   "outputs": [],
   "source": [
    "criterion = nn.CrossEntropyLoss()\n",
    "\n",
    "optimizer_ft = optim.SGD(model_ft.parameters(), lr=0.001, momentum=0.9)\n",
    "\n",
    "# 7 에폭마다 0.1씩 학습률 감소\n",
    "# scheduler = optim.lr_scheduler.StepLR(optimizer_ft, step_size=7, gamma=0.1)"
   ]
  },
  {
   "cell_type": "code",
   "execution_count": 18,
   "id": "93734263",
   "metadata": {},
   "outputs": [],
   "source": [
    "def save_model(model, saved_dir):\n",
    "    os.makedirs(saved_dir, exist_ok=True)\n",
    "    check_point = {\n",
    "        'net' : model.state_dict()\n",
    "    }\n",
    "    torch.save(check_point, saved_dir+'/best_model8_weight.pt')"
   ]
  },
  {
   "cell_type": "code",
   "execution_count": 19,
   "id": "23be2023",
   "metadata": {},
   "outputs": [],
   "source": [
    "from torch.optim.optimizer import Optimizer\n",
    "\n",
    "def eval_model(model_ft, data_loader, device):\n",
    "  model_ft.eval()\n",
    "\n",
    "  best_acc = 0.0\n",
    "    \n",
    "  ys = []\n",
    "  ypreds = []\n",
    "  for x, y in data_loader:\n",
    "    x = x.to(device)\n",
    "    y = y.to(device)\n",
    "\n",
    "    with torch.no_grad():\n",
    "      _, y_pred = model_ft(x).max(1)\n",
    "    ys.append(y)\n",
    "    ypreds.append(y_pred)\n",
    "\n",
    "  ys = torch.cat(ys)\n",
    "  ypreds = torch.cat(ypreds)\n",
    "\n",
    "  acc = ((ys == ypreds).float().sum() / len(ys)) * 100\n",
    "\n",
    "  if best_acc < acc:\n",
    "        save_model(model_ft, './checkpoint')\n",
    "        print('Succeed save the model')\n",
    "        best_acc=acc\n",
    "        \n",
    "  \n",
    "  return acc.item()\n",
    "\n",
    "\n",
    "def train_model(model_ft,train_loader, val_loader, only_fc,\n",
    "                optimizer_cls,\n",
    "                loss_fn,\n",
    "                n_iter=10, device='cpu'):\n",
    "  train_losses = []\n",
    "  train_acc = []\n",
    "  val_acc = []\n",
    "\n",
    "  if only_fc:\n",
    "    optimizer = optimizer_cls\n",
    "  \n",
    "  else:\n",
    "    optimizer = optimizer_cls(model_ft.parameters())\n",
    "\n",
    "  for epoch in range(n_iter):\n",
    "    running_loss = 0.0\n",
    "    model_ft.train()\n",
    "    n = 0\n",
    "    n_acc = 0\n",
    "\n",
    "    for i, (xx, yy) in tqdm(enumerate(train_loader), \n",
    "                            total= len(train_loader)):\n",
    "      yy = torch.from_numpy(np.asarray(yy))\n",
    "      xx = xx.to(device)\n",
    "      yy = yy.to(device)\n",
    "      optimizer.zero_grad()\n",
    "        \n",
    "      h = model_ft(xx)\n",
    "      loss = loss_fn(h,yy)\n",
    "      \n",
    "      loss.backward()\n",
    "      optimizer.step()\n",
    "      running_loss += loss.item()\n",
    "      n += len(xx)\n",
    "      _,y_pred = h.max(1)\n",
    "      n_acc += (yy == y_pred).float().sum().item()\n",
    "\n",
    "    train_losses.append(running_loss/i)\n",
    "    \n",
    "    train_acc.append(n_acc / n)\n",
    "\n",
    "    val_acc.append(eval_model(model_ft, val_loader, device))\n",
    "\n",
    "    print(epoch, train_losses[-1], train_acc[-1], val_acc[-1], flush = True)"
   ]
  },
  {
   "cell_type": "code",
   "execution_count": 20,
   "id": "41740817",
   "metadata": {},
   "outputs": [
    {
     "data": {
      "application/vnd.jupyter.widget-view+json": {
       "model_id": "2521ad85ee0b42fa8e51dbca4890f9d5",
       "version_major": 2,
       "version_minor": 0
      },
      "text/plain": [
       "  0%|          | 0/670 [00:00<?, ?it/s]"
      ]
     },
     "metadata": {},
     "output_type": "display_data"
    },
    {
     "name": "stderr",
     "output_type": "stream",
     "text": [
      "C:\\Users\\JiSeon\\anaconda3\\envs\\test\\lib\\site-packages\\torch\\nn\\functional.py:718: UserWarning: Named tensors and all their associated APIs are an experimental feature and subject to change. Please do not use them for anything important until they are released as stable. (Triggered internally at  ..\\c10/core/TensorImpl.h:1156.)\n",
      "  return torch.max_pool2d(input, kernel_size, stride, padding, dilation, ceil_mode)\n"
     ]
    },
    {
     "name": "stdout",
     "output_type": "stream",
     "text": [
      "Succeed save the model\n",
      "0 2.488872754734193 0.2998134328358209 44.58333206176758\n"
     ]
    },
    {
     "data": {
      "application/vnd.jupyter.widget-view+json": {
       "model_id": "32f8bbead436420f873ad389fb59ec7f",
       "version_major": 2,
       "version_minor": 0
      },
      "text/plain": [
       "  0%|          | 0/670 [00:00<?, ?it/s]"
      ]
     },
     "metadata": {},
     "output_type": "display_data"
    },
    {
     "name": "stdout",
     "output_type": "stream",
     "text": [
      "Succeed save the model\n",
      "1 1.9209958425373597 0.4475746268656716 52.310604095458984\n"
     ]
    },
    {
     "data": {
      "application/vnd.jupyter.widget-view+json": {
       "model_id": "e605fe346c944f4db47336453a257d75",
       "version_major": 2,
       "version_minor": 0
      },
      "text/plain": [
       "  0%|          | 0/670 [00:00<?, ?it/s]"
      ]
     },
     "metadata": {},
     "output_type": "display_data"
    },
    {
     "name": "stdout",
     "output_type": "stream",
     "text": [
      "Succeed save the model\n",
      "2 1.7486693303146705 0.49057835820895523 56.07954406738281\n"
     ]
    },
    {
     "data": {
      "application/vnd.jupyter.widget-view+json": {
       "model_id": "e95e72777c6e49d9b2a1316e9bd8ec02",
       "version_major": 2,
       "version_minor": 0
      },
      "text/plain": [
       "  0%|          | 0/670 [00:00<?, ?it/s]"
      ]
     },
     "metadata": {},
     "output_type": "display_data"
    },
    {
     "name": "stdout",
     "output_type": "stream",
     "text": [
      "Succeed save the model\n",
      "3 1.667716421710358 0.5126865671641792 57.291664123535156\n"
     ]
    },
    {
     "data": {
      "application/vnd.jupyter.widget-view+json": {
       "model_id": "0fd9f4f43acf4a5aa1b031943908186a",
       "version_major": 2,
       "version_minor": 0
      },
      "text/plain": [
       "  0%|          | 0/670 [00:00<?, ?it/s]"
      ]
     },
     "metadata": {},
     "output_type": "display_data"
    },
    {
     "name": "stdout",
     "output_type": "stream",
     "text": [
      "Succeed save the model\n",
      "4 1.6209429429429172 0.5288246268656717 58.88257598876953\n"
     ]
    },
    {
     "data": {
      "application/vnd.jupyter.widget-view+json": {
       "model_id": "1bb98dfb6582461e9865893f21062683",
       "version_major": 2,
       "version_minor": 0
      },
      "text/plain": [
       "  0%|          | 0/670 [00:00<?, ?it/s]"
      ]
     },
     "metadata": {},
     "output_type": "display_data"
    },
    {
     "name": "stdout",
     "output_type": "stream",
     "text": [
      "Succeed save the model\n",
      "5 1.5796828141661503 0.5344216417910448 58.78787612915039\n"
     ]
    },
    {
     "data": {
      "application/vnd.jupyter.widget-view+json": {
       "model_id": "f17cc74afc5b4dd8b99e5d1924604a5d",
       "version_major": 2,
       "version_minor": 0
      },
      "text/plain": [
       "  0%|          | 0/670 [00:00<?, ?it/s]"
      ]
     },
     "metadata": {},
     "output_type": "display_data"
    },
    {
     "name": "stdout",
     "output_type": "stream",
     "text": [
      "Succeed save the model\n",
      "6 1.5422879485984198 0.5400186567164179 59.2613639831543\n"
     ]
    },
    {
     "data": {
      "application/vnd.jupyter.widget-view+json": {
       "model_id": "d8cd2a8ad55e4432b9ec0a939b868124",
       "version_major": 2,
       "version_minor": 0
      },
      "text/plain": [
       "  0%|          | 0/670 [00:00<?, ?it/s]"
      ]
     },
     "metadata": {},
     "output_type": "display_data"
    },
    {
     "name": "stdout",
     "output_type": "stream",
     "text": [
      "Succeed save the model\n",
      "7 1.5385645471168028 0.5455223880597015 60.3787841796875\n"
     ]
    },
    {
     "data": {
      "application/vnd.jupyter.widget-view+json": {
       "model_id": "477c6f735ee74ea2a39b1c396c37d35c",
       "version_major": 2,
       "version_minor": 0
      },
      "text/plain": [
       "  0%|          | 0/670 [00:00<?, ?it/s]"
      ]
     },
     "metadata": {},
     "output_type": "display_data"
    },
    {
     "name": "stdout",
     "output_type": "stream",
     "text": [
      "Succeed save the model\n",
      "8 1.5274711506961884 0.5529850746268656 61.17423629760742\n"
     ]
    },
    {
     "data": {
      "application/vnd.jupyter.widget-view+json": {
       "model_id": "9f5f41ef61ce49c19d2ae48b3cb1b45f",
       "version_major": 2,
       "version_minor": 0
      },
      "text/plain": [
       "  0%|          | 0/670 [00:00<?, ?it/s]"
      ]
     },
     "metadata": {},
     "output_type": "display_data"
    },
    {
     "name": "stdout",
     "output_type": "stream",
     "text": [
      "Succeed save the model\n",
      "9 1.4991056953845003 0.5534514925373134 61.628787994384766\n"
     ]
    },
    {
     "data": {
      "application/vnd.jupyter.widget-view+json": {
       "model_id": "7da2118dcf104e9ab4c0ac974f303c45",
       "version_major": 2,
       "version_minor": 0
      },
      "text/plain": [
       "  0%|          | 0/670 [00:00<?, ?it/s]"
      ]
     },
     "metadata": {},
     "output_type": "display_data"
    },
    {
     "name": "stdout",
     "output_type": "stream",
     "text": [
      "Succeed save the model\n",
      "10 1.5020643966704028 0.5529850746268656 60.47348403930664\n"
     ]
    },
    {
     "data": {
      "application/vnd.jupyter.widget-view+json": {
       "model_id": "cb3af741e3814aeba978ddaff2d9342d",
       "version_major": 2,
       "version_minor": 0
      },
      "text/plain": [
       "  0%|          | 0/670 [00:00<?, ?it/s]"
      ]
     },
     "metadata": {},
     "output_type": "display_data"
    },
    {
     "name": "stdout",
     "output_type": "stream",
     "text": [
      "Succeed save the model\n",
      "11 1.4741407197152552 0.5680970149253731 62.06439208984375\n"
     ]
    },
    {
     "data": {
      "application/vnd.jupyter.widget-view+json": {
       "model_id": "9f3edaf15f1a426eaef7721c2d38653c",
       "version_major": 2,
       "version_minor": 0
      },
      "text/plain": [
       "  0%|          | 0/670 [00:00<?, ?it/s]"
      ]
     },
     "metadata": {},
     "output_type": "display_data"
    },
    {
     "name": "stdout",
     "output_type": "stream",
     "text": [
      "Succeed save the model\n",
      "12 1.4651410836275383 0.5654850746268657 62.3863639831543\n"
     ]
    },
    {
     "data": {
      "application/vnd.jupyter.widget-view+json": {
       "model_id": "c6f5bbf5d9d44b0a80bfb884702c6e05",
       "version_major": 2,
       "version_minor": 0
      },
      "text/plain": [
       "  0%|          | 0/670 [00:00<?, ?it/s]"
      ]
     },
     "metadata": {},
     "output_type": "display_data"
    },
    {
     "name": "stdout",
     "output_type": "stream",
     "text": [
      "Succeed save the model\n",
      "13 1.4635136885671516 0.5621268656716418 62.68939208984375\n"
     ]
    },
    {
     "data": {
      "application/vnd.jupyter.widget-view+json": {
       "model_id": "71daae033e064f6e8ec2a640d55759e7",
       "version_major": 2,
       "version_minor": 0
      },
      "text/plain": [
       "  0%|          | 0/670 [00:00<?, ?it/s]"
      ]
     },
     "metadata": {},
     "output_type": "display_data"
    },
    {
     "name": "stdout",
     "output_type": "stream",
     "text": [
      "Succeed save the model\n",
      "14 1.4545171823914989 0.5675373134328359 61.79924011230469\n"
     ]
    },
    {
     "data": {
      "application/vnd.jupyter.widget-view+json": {
       "model_id": "dc195c76464649b2af4641fe738514bb",
       "version_major": 2,
       "version_minor": 0
      },
      "text/plain": [
       "  0%|          | 0/670 [00:00<?, ?it/s]"
      ]
     },
     "metadata": {},
     "output_type": "display_data"
    },
    {
     "name": "stdout",
     "output_type": "stream",
     "text": [
      "Succeed save the model\n",
      "15 1.4490290781307649 0.574160447761194 63.731056213378906\n"
     ]
    },
    {
     "data": {
      "application/vnd.jupyter.widget-view+json": {
       "model_id": "4de7a3e2ec79457cae09ee63f1bf7e88",
       "version_major": 2,
       "version_minor": 0
      },
      "text/plain": [
       "  0%|          | 0/670 [00:00<?, ?it/s]"
      ]
     },
     "metadata": {},
     "output_type": "display_data"
    },
    {
     "name": "stdout",
     "output_type": "stream",
     "text": [
      "Succeed save the model\n",
      "16 1.4505697805072517 0.5678171641791044 63.465904235839844\n"
     ]
    },
    {
     "data": {
      "application/vnd.jupyter.widget-view+json": {
       "model_id": "976fa3cb4b6a430cbd2595d653f80e63",
       "version_major": 2,
       "version_minor": 0
      },
      "text/plain": [
       "  0%|          | 0/670 [00:00<?, ?it/s]"
      ]
     },
     "metadata": {},
     "output_type": "display_data"
    },
    {
     "name": "stdout",
     "output_type": "stream",
     "text": [
      "Succeed save the model\n",
      "17 1.4334383717388672 0.5725746268656716 63.25757598876953\n"
     ]
    },
    {
     "data": {
      "application/vnd.jupyter.widget-view+json": {
       "model_id": "07271f2bd4524fb5a79a097d0f2f3595",
       "version_major": 2,
       "version_minor": 0
      },
      "text/plain": [
       "  0%|          | 0/670 [00:00<?, ?it/s]"
      ]
     },
     "metadata": {},
     "output_type": "display_data"
    },
    {
     "name": "stdout",
     "output_type": "stream",
     "text": [
      "Succeed save the model\n",
      "18 1.4310884220895923 0.5772388059701492 62.121212005615234\n"
     ]
    },
    {
     "data": {
      "application/vnd.jupyter.widget-view+json": {
       "model_id": "641a01f74be944d2987e022a05e5f7d6",
       "version_major": 2,
       "version_minor": 0
      },
      "text/plain": [
       "  0%|          | 0/670 [00:00<?, ?it/s]"
      ]
     },
     "metadata": {},
     "output_type": "display_data"
    },
    {
     "name": "stdout",
     "output_type": "stream",
     "text": [
      "Succeed save the model\n",
      "19 1.4199001148499002 0.5724813432835821 64.22348022460938\n"
     ]
    },
    {
     "data": {
      "application/vnd.jupyter.widget-view+json": {
       "model_id": "08dc89ac32ee4a23959771ace6b99409",
       "version_major": 2,
       "version_minor": 0
      },
      "text/plain": [
       "  0%|          | 0/670 [00:00<?, ?it/s]"
      ]
     },
     "metadata": {},
     "output_type": "display_data"
    },
    {
     "name": "stdout",
     "output_type": "stream",
     "text": [
      "Succeed save the model\n",
      "20 1.416351957171487 0.5777985074626866 62.51893615722656\n"
     ]
    },
    {
     "data": {
      "application/vnd.jupyter.widget-view+json": {
       "model_id": "7bcea837ed1e4a13869ba00c70ee6c4b",
       "version_major": 2,
       "version_minor": 0
      },
      "text/plain": [
       "  0%|          | 0/670 [00:00<?, ?it/s]"
      ]
     },
     "metadata": {},
     "output_type": "display_data"
    },
    {
     "name": "stdout",
     "output_type": "stream",
     "text": [
      "Succeed save the model\n",
      "21 1.4025304242634453 0.5863805970149254 64.24242401123047\n"
     ]
    },
    {
     "data": {
      "application/vnd.jupyter.widget-view+json": {
       "model_id": "a44de39c993e4272a52f7963080d0972",
       "version_major": 2,
       "version_minor": 0
      },
      "text/plain": [
       "  0%|          | 0/670 [00:00<?, ?it/s]"
      ]
     },
     "metadata": {},
     "output_type": "display_data"
    },
    {
     "name": "stdout",
     "output_type": "stream",
     "text": [
      "Succeed save the model\n",
      "22 1.4211959944890398 0.5834888059701493 63.75\n"
     ]
    },
    {
     "data": {
      "application/vnd.jupyter.widget-view+json": {
       "model_id": "3e7ccf1df21c45e3b9f415a3cd0827f6",
       "version_major": 2,
       "version_minor": 0
      },
      "text/plain": [
       "  0%|          | 0/670 [00:00<?, ?it/s]"
      ]
     },
     "metadata": {},
     "output_type": "display_data"
    },
    {
     "name": "stdout",
     "output_type": "stream",
     "text": [
      "Succeed save the model\n",
      "23 1.3965899804426058 0.5819029850746269 65.51136016845703\n"
     ]
    },
    {
     "data": {
      "application/vnd.jupyter.widget-view+json": {
       "model_id": "7d1a0da97470425388648c013fc66230",
       "version_major": 2,
       "version_minor": 0
      },
      "text/plain": [
       "  0%|          | 0/670 [00:00<?, ?it/s]"
      ]
     },
     "metadata": {},
     "output_type": "display_data"
    },
    {
     "name": "stdout",
     "output_type": "stream",
     "text": [
      "Succeed save the model\n",
      "24 1.3968589794119022 0.5889925373134328 65.20833587646484\n"
     ]
    },
    {
     "data": {
      "application/vnd.jupyter.widget-view+json": {
       "model_id": "3c6dcdb3609647499eb71524cb0d9928",
       "version_major": 2,
       "version_minor": 0
      },
      "text/plain": [
       "  0%|          | 0/670 [00:00<?, ?it/s]"
      ]
     },
     "metadata": {},
     "output_type": "display_data"
    },
    {
     "name": "stdout",
     "output_type": "stream",
     "text": [
      "Succeed save the model\n",
      "25 1.3773770431232024 0.5870335820895523 63.5037841796875\n"
     ]
    },
    {
     "data": {
      "application/vnd.jupyter.widget-view+json": {
       "model_id": "334143f4eb63415cb3819ffc6a36e1e3",
       "version_major": 2,
       "version_minor": 0
      },
      "text/plain": [
       "  0%|          | 0/670 [00:00<?, ?it/s]"
      ]
     },
     "metadata": {},
     "output_type": "display_data"
    },
    {
     "name": "stdout",
     "output_type": "stream",
     "text": [
      "Succeed save the model\n",
      "26 1.3766414116850882 0.5930037313432835 64.94318389892578\n"
     ]
    },
    {
     "data": {
      "application/vnd.jupyter.widget-view+json": {
       "model_id": "326d9b97ebf7436b81b0cdb066e82a94",
       "version_major": 2,
       "version_minor": 0
      },
      "text/plain": [
       "  0%|          | 0/670 [00:00<?, ?it/s]"
      ]
     },
     "metadata": {},
     "output_type": "display_data"
    },
    {
     "name": "stdout",
     "output_type": "stream",
     "text": [
      "Succeed save the model\n",
      "27 1.3761402375673144 0.5924440298507463 64.33712005615234\n"
     ]
    },
    {
     "data": {
      "application/vnd.jupyter.widget-view+json": {
       "model_id": "14b04fa0e7dc421381d4c7fcaae87129",
       "version_major": 2,
       "version_minor": 0
      },
      "text/plain": [
       "  0%|          | 0/670 [00:00<?, ?it/s]"
      ]
     },
     "metadata": {},
     "output_type": "display_data"
    },
    {
     "name": "stdout",
     "output_type": "stream",
     "text": [
      "Succeed save the model\n",
      "28 1.3826351720834171 0.5892723880597015 65.20833587646484\n"
     ]
    },
    {
     "data": {
      "application/vnd.jupyter.widget-view+json": {
       "model_id": "4d0bc9b93261403abf902debe25f6341",
       "version_major": 2,
       "version_minor": 0
      },
      "text/plain": [
       "  0%|          | 0/670 [00:00<?, ?it/s]"
      ]
     },
     "metadata": {},
     "output_type": "display_data"
    },
    {
     "name": "stdout",
     "output_type": "stream",
     "text": [
      "Succeed save the model\n",
      "29 1.3885045852094489 0.5926305970149254 65.35984802246094\n"
     ]
    }
   ],
   "source": [
    "model_ft.to(\"cuda:0\")\n",
    "\n",
    "train_model(model_ft, train_loader, val_loader, only_fc = True, optimizer_cls=optimizer_ft,\n",
    "            loss_fn = criterion, n_iter=30, device='cuda:0')"
   ]
  }
 ],
 "metadata": {
  "kernelspec": {
   "display_name": "test",
   "language": "python",
   "name": "test"
  },
  "language_info": {
   "codemirror_mode": {
    "name": "ipython",
    "version": 3
   },
   "file_extension": ".py",
   "mimetype": "text/x-python",
   "name": "python",
   "nbconvert_exporter": "python",
   "pygments_lexer": "ipython3",
   "version": "3.9.16"
  }
 },
 "nbformat": 4,
 "nbformat_minor": 5
}
